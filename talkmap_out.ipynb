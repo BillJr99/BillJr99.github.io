{
 "cells": [
  {
   "cell_type": "markdown",
   "metadata": {},
   "source": [
    "# Leaflet cluster map of talk locations\n",
    "\n",
    "Assuming you are working in a Linux or Windows Subsystem for Linux environment, you may need to install some dependencies. Assuming a clean installation, the following will be needed:\n",
    "\n",
    "```bash\n",
    "sudo apt install jupyter\n",
    "sudo apt install python3-pip\n",
    "pip install python-frontmatter getorg --upgrade\n",
    "```\n",
    "\n",
    "After which you can run this from the `_talks/` directory, via:\n",
    "\n",
    "```bash\n",
    " jupyter nbconvert --to notebook --execute talkmap.ipynb --output talkmap_out.ipynb\n",
    "```\n",
    " \n",
    "The `_talks/` directory contains `.md` files of all your talks. This scrapes the location YAML field from each `.md` file, geolocates it with `geopy/Nominatim`, and uses the `getorg` library to output data, HTML, and Javascript for a standalone cluster map."
   ]
  },
  {
   "cell_type": "code",
   "execution_count": 1,
   "metadata": {
    "collapsed": false,
    "execution": {
     "iopub.execute_input": "2025-05-26T14:20:11.166548Z",
     "iopub.status.busy": "2025-05-26T14:20:11.166349Z",
     "iopub.status.idle": "2025-05-26T14:20:12.412547Z",
     "shell.execute_reply": "2025-05-26T14:20:12.411827Z"
    }
   },
   "outputs": [
    {
     "name": "stdout",
     "output_type": "stream",
     "text": [
      "Collecting python-frontmatter\r\n"
     ]
    },
    {
     "name": "stdout",
     "output_type": "stream",
     "text": [
      "  Downloading python_frontmatter-1.1.0-py3-none-any.whl.metadata (4.1 kB)\r\n",
      "Requirement already satisfied: getorg in /opt/hostedtoolcache/Python/3.9.22/x64/lib/python3.9/site-packages (0.3.1)\r\n",
      "Requirement already satisfied: PyYAML in /opt/hostedtoolcache/Python/3.9.22/x64/lib/python3.9/site-packages (from python-frontmatter) (6.0.2)\r\n",
      "Requirement already satisfied: geopy in /opt/hostedtoolcache/Python/3.9.22/x64/lib/python3.9/site-packages (from getorg) (2.4.1)\r\n",
      "Requirement already satisfied: pygithub in /opt/hostedtoolcache/Python/3.9.22/x64/lib/python3.9/site-packages (from getorg) (2.6.1)\r\n",
      "Requirement already satisfied: retrying in /opt/hostedtoolcache/Python/3.9.22/x64/lib/python3.9/site-packages (from getorg) (1.3.4)\r\n"
     ]
    },
    {
     "name": "stdout",
     "output_type": "stream",
     "text": [
      "Requirement already satisfied: geographiclib<3,>=1.52 in /opt/hostedtoolcache/Python/3.9.22/x64/lib/python3.9/site-packages (from geopy->getorg) (2.0)\r\n",
      "Requirement already satisfied: pynacl>=1.4.0 in /opt/hostedtoolcache/Python/3.9.22/x64/lib/python3.9/site-packages (from pygithub->getorg) (1.5.0)\r\n",
      "Requirement already satisfied: requests>=2.14.0 in /opt/hostedtoolcache/Python/3.9.22/x64/lib/python3.9/site-packages (from pygithub->getorg) (2.32.3)\r\n",
      "Requirement already satisfied: pyjwt>=2.4.0 in /opt/hostedtoolcache/Python/3.9.22/x64/lib/python3.9/site-packages (from pyjwt[crypto]>=2.4.0->pygithub->getorg) (2.10.1)\r\n",
      "Requirement already satisfied: typing-extensions>=4.0.0 in /opt/hostedtoolcache/Python/3.9.22/x64/lib/python3.9/site-packages (from pygithub->getorg) (4.13.2)\r\n",
      "Requirement already satisfied: urllib3>=1.26.0 in /opt/hostedtoolcache/Python/3.9.22/x64/lib/python3.9/site-packages (from pygithub->getorg) (2.4.0)\r\n",
      "Requirement already satisfied: Deprecated in /opt/hostedtoolcache/Python/3.9.22/x64/lib/python3.9/site-packages (from pygithub->getorg) (1.2.18)\r\n",
      "Requirement already satisfied: cryptography>=3.4.0 in /opt/hostedtoolcache/Python/3.9.22/x64/lib/python3.9/site-packages (from pyjwt[crypto]>=2.4.0->pygithub->getorg) (45.0.3)\r\n",
      "Requirement already satisfied: cffi>=1.14 in /opt/hostedtoolcache/Python/3.9.22/x64/lib/python3.9/site-packages (from cryptography>=3.4.0->pyjwt[crypto]>=2.4.0->pygithub->getorg) (1.17.1)\r\n",
      "Requirement already satisfied: pycparser in /opt/hostedtoolcache/Python/3.9.22/x64/lib/python3.9/site-packages (from cffi>=1.14->cryptography>=3.4.0->pyjwt[crypto]>=2.4.0->pygithub->getorg) (2.22)\r\n",
      "Requirement already satisfied: charset-normalizer<4,>=2 in /opt/hostedtoolcache/Python/3.9.22/x64/lib/python3.9/site-packages (from requests>=2.14.0->pygithub->getorg) (3.4.2)\r\n",
      "Requirement already satisfied: idna<4,>=2.5 in /opt/hostedtoolcache/Python/3.9.22/x64/lib/python3.9/site-packages (from requests>=2.14.0->pygithub->getorg) (3.10)\r\n",
      "Requirement already satisfied: certifi>=2017.4.17 in /opt/hostedtoolcache/Python/3.9.22/x64/lib/python3.9/site-packages (from requests>=2.14.0->pygithub->getorg) (2025.4.26)\r\n",
      "Requirement already satisfied: wrapt<2,>=1.10 in /opt/hostedtoolcache/Python/3.9.22/x64/lib/python3.9/site-packages (from Deprecated->pygithub->getorg) (1.17.2)\r\n",
      "Requirement already satisfied: six>=1.7.0 in /opt/hostedtoolcache/Python/3.9.22/x64/lib/python3.9/site-packages (from retrying->getorg) (1.17.0)\r\n"
     ]
    },
    {
     "name": "stdout",
     "output_type": "stream",
     "text": [
      "Downloading python_frontmatter-1.1.0-py3-none-any.whl (9.8 kB)\r\n"
     ]
    },
    {
     "name": "stdout",
     "output_type": "stream",
     "text": [
      "Installing collected packages: python-frontmatter\r\n"
     ]
    },
    {
     "name": "stdout",
     "output_type": "stream",
     "text": [
      "Successfully installed python-frontmatter-1.1.0\r\n"
     ]
    },
    {
     "name": "stdout",
     "output_type": "stream",
     "text": [
      "Iywidgets and ipyleaflet support disabled. You must be in a Jupyter notebook to use this feature.\n",
      "Error raised:\n",
      "No module named 'ipyleaflet'\n",
      "Check that you have enabled ipyleaflet in Jupyter with:\n",
      "    jupyter nbextension enable --py ipyleaflet\n"
     ]
    }
   ],
   "source": [
    "# Start by installing the dependencies\n",
    "!pip install python-frontmatter getorg --upgrade\n",
    "import frontmatter\n",
    "import glob\n",
    "import getorg\n",
    "from geopy import Nominatim\n",
    "from geopy.exc import GeocoderTimedOut"
   ]
  },
  {
   "cell_type": "code",
   "execution_count": 2,
   "metadata": {
    "collapsed": false,
    "execution": {
     "iopub.execute_input": "2025-05-26T14:20:12.415155Z",
     "iopub.status.busy": "2025-05-26T14:20:12.414664Z",
     "iopub.status.idle": "2025-05-26T14:20:12.418247Z",
     "shell.execute_reply": "2025-05-26T14:20:12.417735Z"
    }
   },
   "outputs": [],
   "source": [
    "# Collect the Markdown files\n",
    "g = glob.glob(\"_talks/*.md\")"
   ]
  },
  {
   "cell_type": "code",
   "execution_count": 3,
   "metadata": {
    "collapsed": true,
    "execution": {
     "iopub.execute_input": "2025-05-26T14:20:12.420309Z",
     "iopub.status.busy": "2025-05-26T14:20:12.419931Z",
     "iopub.status.idle": "2025-05-26T14:20:12.445178Z",
     "shell.execute_reply": "2025-05-26T14:20:12.444628Z"
    }
   },
   "outputs": [],
   "source": [
    "# Set the default timeout, in seconds\n",
    "TIMEOUT = 5\n",
    "\n",
    "# Prepare to geolocate\n",
    "geocoder = Nominatim(user_agent=\"academicpages.github.io\")\n",
    "location_dict = {}\n",
    "location = \"\"\n",
    "permalink = \"\"\n",
    "title = \"\""
   ]
  },
  {
   "cell_type": "markdown",
   "metadata": {},
   "source": [
    "In the event that this times out with an error, double check to make sure that the location is can be properly geolocated."
   ]
  },
  {
   "cell_type": "code",
   "execution_count": 4,
   "metadata": {
    "collapsed": false,
    "execution": {
     "iopub.execute_input": "2025-05-26T14:20:12.447556Z",
     "iopub.status.busy": "2025-05-26T14:20:12.447191Z",
     "iopub.status.idle": "2025-05-26T14:21:04.136868Z",
     "shell.execute_reply": "2025-05-26T14:21:04.136128Z"
    }
   },
   "outputs": [
    {
     "name": "stdout",
     "output_type": "stream",
     "text": [
      "Contextualizing Principles of Computer Science<br />Contextualizing Principles of Computer Science. CASTLE Pedagogical Happy Hour. Philadelphia, PA. CASTLE Summit at Drexel University. Faculty Panelist.; Philadelphia, PA Philadelphia, Philadelphia County, Pennsylvania, United States\n"
     ]
    },
    {
     "name": "stdout",
     "output_type": "stream",
     "text": [
      "Expanding Pathways and Access to the Computing Workforce from K-20<br />Moderator at Pennsylvania Training and Technical Assistance Network (PATTAN) Remake Learning Days Monthly Meetup under a PASmart grant from the Pennsylvania Department of Education; Harrisburg, PA Harrisburg, Dauphin County, Pennsylvania, United States\n"
     ]
    },
    {
     "name": "stdout",
     "output_type": "stream",
     "text": [
      "Pixels, Post-Its and CS Principles<br />Pixels, Post-Its and CS Principles. SIGCSE Poster with Jeffrey L. Popyack.; Memphis, TN Memphis, Shelby County, West Tennessee, Tennessee, United States\n"
     ]
    },
    {
     "name": "stdout",
     "output_type": "stream",
     "text": [
      "Big Data, Big Deal; Welcome to the Twitterverse<br />Big Data, Big Deal; Welcome to the Twitterverse. Reboot, REThink, Refresh with Jeff Popyack.; Philadelphia, PA Philadelphia, Philadelphia County, Pennsylvania, United States\n"
     ]
    },
    {
     "name": "stdout",
     "output_type": "stream",
     "text": [
      "REportal: A Web-Based Reverse Engineering Portal<br />REportal: A Web-Based Reverse Engineering Portal. Drexel University Research Day; Philadelphia, PA Philadelphia, Philadelphia County, Pennsylvania, United States\n"
     ]
    },
    {
     "name": "stdout",
     "output_type": "stream",
     "text": [
      "Energy Effcient Detection of Respiratory Anomaly using Spiking Neural Networks<br />IBM-IEEE AI Compute Symposium (AICS) 2021; Philadelphia, PA Philadelphia, Philadelphia County, Pennsylvania, United States\n"
     ]
    },
    {
     "name": "stdout",
     "output_type": "stream",
     "text": [
      "An Integrated Introduction to Network Protocols and Cryptography to High School Students<br />An Integrated Introduction to Network Protocols and Cryptography to High School Students. Poster Presentation at ACM SIGCSE; Raleigh, NC Raleigh, Wake County, North Carolina, United States\n"
     ]
    },
    {
     "name": "stdout",
     "output_type": "stream",
     "text": [
      "A Wearable Biomedical Monitoring System Enabled by the Internet-of-Things<br />A Wearable Biomedical Monitoring System Enabled by the Internet-of-Things. NSF Connections in Smart Health (CSH) Workshop with Kapil R. Dandekar, Genevieve Dion, Adam Fontecchio, Timothy Kurzweg.; Charlottesville, VA Charlottesville, Virginia, United States\n"
     ]
    },
    {
     "name": "stdout",
     "output_type": "stream",
     "text": [
      "Linux Kernel Vulnerabilities<br />Linux Kernel Vulnerabilities. Drexel University Math and Computer Science (MCS) Society Talk.; Philadelphia, PA Philadelphia, Philadelphia County, Pennsylvania, United States\n"
     ]
    },
    {
     "name": "stdout",
     "output_type": "stream",
     "text": [
      "A Service-Based Web Portal for Integrated Reverse Engineering and Program Comprehension<br />Drexel University; Philadelphia, PA Philadelphia, Philadelphia County, Pennsylvania, United States\n"
     ]
    },
    {
     "name": "stdout",
     "output_type": "stream",
     "text": [
      "What Is/Are CS Principles? Philadelphia Science Festival with Jeff Popyack and Omar Ali, School District of Philadelphia<br />What Is/Are CS Principles? Philadelphia Science Festival with Jeff Popyack and Omar Ali, School District of Philadelphia.; Philadelphia, PA Philadelphia, Philadelphia County, Pennsylvania, United States\n"
     ]
    },
    {
     "name": "stdout",
     "output_type": "stream",
     "text": [
      "Certification and standards for computing education in Pennsylvania<br />Certification and standards for computing education in Pennsylvania. Invited Panelist with Dougherty, J.P., Griffin, J., Pirmann, T., and Powell, R. Panel presentation submitted to The Twenty-fifth Annual Consortium for Computing Science in Colleges (CCSC) Eastern Conference, Villanova University; Radnor, PA Radnor, Radnor Township, Delaware County, Pennsylvania, 19080, United States\n"
     ]
    },
    {
     "name": "stdout",
     "output_type": "stream",
     "text": [
      "Teaching AP Computer Science A<br />AP Computer Science Workshop for the Delaware Department of Education; Newark, DE Newark, New Castle County, Delaware, United States\n"
     ]
    },
    {
     "name": "stdout",
     "output_type": "stream",
     "text": [
      "Circuit Design with Breadboards, Microcontrollers, and FPGAs<br />Circuit Design with Breadboards, Microcontrollers, and FPGAs. Drexel University Math and Computer Science (MCS) Society Talk.; Philadelphia, PA Philadelphia, Philadelphia County, Pennsylvania, United States\n"
     ]
    },
    {
     "name": "stdout",
     "output_type": "stream",
     "text": [
      "Version Control Systems<br />Version Control Systems. Drexel University Math and Computer Science (MCS) Society Talk.; Philadelphia, PA Philadelphia, Philadelphia County, Pennsylvania, United States\n"
     ]
    },
    {
     "name": "stdout",
     "output_type": "stream",
     "text": [
      "Data Fusion of Single-Tag RFID Measurements for Respiratory Rate Monitoring<br />IEEE Signal Processing in Medicine and Biology (SPMB); Philadelphia, PA Philadelphia, Philadelphia County, Pennsylvania, United States\n"
     ]
    },
    {
     "name": "stdout",
     "output_type": "stream",
     "text": [
      "Integrating Active Learning in the STEM Classroom (Inaugural Event)<br />Integrating Active Learning in the STEM Classroom (Inaugural Event). Pedagogical Readiness Oversight for Future Educators in STEM Subjects (PROFESS) at Drexel University.; Philadelphia, PA Philadelphia, Philadelphia County, Pennsylvania, United States\n"
     ]
    },
    {
     "name": "stdout",
     "output_type": "stream",
     "text": [
      "Networking Applications, Protocols, and Cryptography with Java<br />Networking Applications, Protocols, and Cryptography with Java. Google CS4HS Workshop at the University of Pennsylvania.; Philadelphia, PA Philadelphia, Philadelphia County, Pennsylvania, United States\n"
     ]
    },
    {
     "name": "stdout",
     "output_type": "stream",
     "text": [
      "Mobile Application Development with Web Services<br />Mobile Application Development with Web Services. Google CS4HS Workshop at the University of Pennsylvania.; Philadelphia, PA Philadelphia, Philadelphia County, Pennsylvania, United States\n"
     ]
    },
    {
     "name": "stdout",
     "output_type": "stream",
     "text": [
      "Networking Applications, Protocols, and Cryptography<br />Networking Applications, Protocols, and Cryptography. Computing Tapestry Workshop at the University of Pennsylvania.; Philadelphia, PA Philadelphia, Philadelphia County, Pennsylvania, United States\n"
     ]
    },
    {
     "name": "stdout",
     "output_type": "stream",
     "text": [
      "Post-It Pandemonium: Teaching Image Representation and Compression with an Unplugged Activity<br />Post-It Pandemonium: Teaching Image Representation and Compression with an Unplugged Activity. ACM SIGCSE Nifty Assignment with Jeffrey L. Popyack.; Minneapolis, MN Minneapolis, Hennepin County, Minnesota, United States\n"
     ]
    },
    {
     "name": "stdout",
     "output_type": "stream",
     "text": [
      "MapReduce Parallelism across the Curriculum: an Interim Report<br />MapReduce Parallelism across the Curriculum: an Interim Report. 8th NSF/TCPP Workshop on Parallel and Distributed Computing Education (EduPar-18) with Bruce Char and Jeffrey Popyack.; Vancouver, BC, Canada Vancouver, Metro Vancouver Regional District, British Columbia, Canada\n"
     ]
    },
    {
     "name": "stdout",
     "output_type": "stream",
     "text": [
      "Using GitHub Classroom<br />Using GitHub Classroom at the CSTA Spring Symposium; Philadelphia, PA Philadelphia, Philadelphia County, Pennsylvania, United States\n"
     ]
    },
    {
     "name": "stdout",
     "output_type": "stream",
     "text": [
      "Introducing Computing Concepts through Multidisciplinary No-Code and Low-Code Platforms<br />Lunch and Learn Booth at the Pennsylvania Training and Technical Assistance Network (PATTAN) Computer Science for All Summit under a PASmart grant from the Pennsylvania Department of Education, June 22-23, 2022; Harrisburg, PA Harrisburg, Dauphin County, Pennsylvania, United States\n"
     ]
    },
    {
     "name": "stdout",
     "output_type": "stream",
     "text": [
      "Maternity Smart Fabric Bellyband to Monitor Uterine Activity and Assess Fetal Well-Being<br />Maternity Smart Fabric Bellyband to Monitor Uterine Activity and Assess Fetal Well-Being. Wearable Technology in Healthcare Society (WATCH) Conference with Kapil Dandekar, Genevieve Dion, Adam Fontecchio, Timothy Kurzweg, and Owen Montgomery, MD.; Indianapolis, IN Indianapolis, Marion County, Indiana, United States\n"
     ]
    },
    {
     "name": "stdout",
     "output_type": "stream",
     "text": [
      "A Software Framework for Monitoring and Performing Analytics on Real Time Medical Device Data<br />A Software Framework for Monitoring and Performing Analytics on Real Time Medical Device Data. American Society for Engineering Education Poster with Rachel M. Goeken, Kapil Dandekar, Timothy Kurzweg, Genevieve Dion, and Adam K. Fontecchio.; Swarthmore, PA Swarthmore, Delaware County, Pennsylvania, 19081, United States\n"
     ]
    },
    {
     "name": "stdout",
     "output_type": "stream",
     "text": [
      "Using BigData for Learning about a Slice of Parallel Computation in Several Courses<br />Using BigData for Learning about a Slice of Parallel Computation in Several Courses. NSF/TCPP Workshop on Parallel and Distributed Computing Education (EduPar-16) Poster with Bruce Char and Jeffrey Popyack.; Chicago, IL Chicago, Cook County, Illinois, United States\n"
     ]
    },
    {
     "name": "stdout",
     "output_type": "stream",
     "text": [
      "GK-12: Engineering as a Contextual Vehicle for Science and Mathematics Education Poster<br />GK-12: Engineering as a Contextual Vehicle for Science and Mathematics Education Poster. NSF GK-12 Annual Meeting, Washington DC and Drexel Research (RISC) Day; Washington, DC and Philadelphia, PA None\n"
     ]
    },
    {
     "name": "stdout",
     "output_type": "stream",
     "text": [
      "Post-It Pandemonium: Teaching Image Representation and Compression with an \"Unplugged\" Activity<br />Post-It Pandemonium: Teaching Image Representation and Compression with an \"Unplugged\" Activity. CS4Philly Workshop Activity with Jeffrey L. Popyack.; Philadelphia, PA Philadelphia, Philadelphia County, Pennsylvania, United States\n"
     ]
    },
    {
     "name": "stdout",
     "output_type": "stream",
     "text": [
      "Real-Time Detection of Apnea via Signal Processing of Time-Series Properties of RFID-Based Smart Garments<br />IEEE Signal Processing in Medicine and Biology (SPMB); Philadelphia, PA Philadelphia, Philadelphia County, Pennsylvania, United States\n"
     ]
    },
    {
     "name": "stdout",
     "output_type": "stream",
     "text": [
      "Wearable Smart Textiles Based on Programmable and Automated Knitting Technology for Biomedical and Sensor Actuation Applications<br />Wearable Smart Textiles Based on Programmable and Automated Knitting Technology for Biomedical and Sensor Actuation Applications. BIO International Convention with Kapil R. Dandekar, Genevieve Dion, Adam Fontecchio, Tim Kurzweg, Owen Montgomery, V.K. Narayan.; Philadelphia, PA Philadelphia, Philadelphia County, Pennsylvania, United States\n"
     ]
    },
    {
     "name": "stdout",
     "output_type": "stream",
     "text": [
      "Learning Real-World Skills while Majoring in Computer Science<br />Learning Real-World Skills while Majoring in Computer Science. GETT: Girls Exploring Tomorrows Technology with Jeff Popyack, Suzanne Hanbicki, and Hannah Pinkos.; King of Prussia, PA King of Prussia, Upper Merion Township, Montgomery County, Pennsylvania, 19406, United States\n"
     ]
    },
    {
     "name": "stdout",
     "output_type": "stream",
     "text": [
      "Equitable CS Education for Broader Workforce Preparation through Design Thinking<br />Pennsylvania Training and Technical Assistance Network (PATTAN) Computer Science for All Summit under a PASmart grant from the Pennsylvania Department of Education, June 22-23, 2022; Harrisburg, PA Harrisburg, Dauphin County, Pennsylvania, United States\n"
     ]
    },
    {
     "name": "stdout",
     "output_type": "stream",
     "text": [
      "Using Replit in the Classroom<br />Using Replit in the Classroom at the CSTA Spring Symposium; Philadelphia, PA Philadelphia, Philadelphia County, Pennsylvania, United States\n"
     ]
    },
    {
     "name": "stdout",
     "output_type": "stream",
     "text": [
      "Raspberry HadooPI: A Low-Cost, Hands-On Laboratory in Big Data and Analytics<br />Raspberry HadooPI: A Low-Cost, Hands-On Laboratory in Big Data and Analytics. SIGCSE 2015 Poster with Ken Fox and Jeffrey L. Popyack. Kansas City, MO.  Also presented at Drexel University Research Day 2015; Kansas City, MO and Philadelphia, PA None\n"
     ]
    },
    {
     "name": "stdout",
     "output_type": "stream",
     "text": [
      "A Multi-Disciplinary Framework for Continuous Biomedical Monitoring Using Low-Power Passive RFID-based Wireless Wearable Sensors<br />Proceedings of the IEEE Smart Systems Workshop; St. Louis, MO Saint Louis, Missouri, United States\n"
     ]
    },
    {
     "name": "stdout",
     "output_type": "stream",
     "text": [
      "Marconi: The Master of Wireless<br />Marconi: The Master of Wireless. Bellyband Demonstration at Drexel University.; Philadelphia, PA Philadelphia, Philadelphia County, Pennsylvania, United States\n"
     ]
    },
    {
     "name": "stdout",
     "output_type": "stream",
     "text": [
      "REThink CS @ Drexel: Bridging Connections in Philadelphia with a Research Experiences for Teachers Site.<br />NSF EEC Grantees Conference with Jeffrey L. Popyack; Washington, DC Washington, District of Columbia, United States\n"
     ]
    },
    {
     "name": "stdout",
     "output_type": "stream",
     "text": [
      "National Council of Women in Information Technology (NCWIT), Invited Faculty<br />National Council of Women in Information Technology (NCWIT), Invited Faculty.; Tuscon, AZ West Tuscon Estates Parkway, Tucson Estates, Pima County, Arizona, United States\n"
     ]
    },
    {
     "name": "stdout",
     "output_type": "stream",
     "text": [
      "How the PC Starts its Day: From Boot Code to Boot Viruses<br />How the PC Starts its Day: From Boot Code to Boot Viruses. Drexel University Math and Computer Science (MCS) Society Talk.; Philadelphia, PA Philadelphia, Philadelphia County, Pennsylvania, United States\n"
     ]
    },
    {
     "name": "stdout",
     "output_type": "stream",
     "text": [
      "Grades 7-12 CS4All Bootcamp<br />Computer Science Bootcamp for Teachers in Grades 7-12 at Pennsylvania Training and Technical Assistance Network (PATTAN) Computer Science for All Summit under a PASmart grant from the Pennsylvania Department of Education; Harrisburg, PA Harrisburg, Dauphin County, Pennsylvania, United States\n"
     ]
    },
    {
     "name": "stdout",
     "output_type": "stream",
     "text": [
      "Internet Protocols and Cryptography<br />Internet Protocols and Cryptography. Reboot Renew REThink Workshop at Drexel University.; Philadelphia, PA Philadelphia, Philadelphia County, Pennsylvania, United States\n"
     ]
    },
    {
     "name": "stdout",
     "output_type": "stream",
     "text": [
      "Dynamic Analysis of Agent Frameworks in Support of a Multiagent Systems Reference Model<br />IADIS Proceedings of the International Conference Intelligent Systems and Agents (ISA); Lisbon, Portugal Lisboa, Portugal\n"
     ]
    },
    {
     "name": "stdout",
     "output_type": "stream",
     "text": [
      "On the Use of Radio Frequency Identification for Continuous Biomedical Monitoring<br />ACM/IEEE International Conference on Internet-of-Things Design and Implementation (IoTDI); Pittsburgh, PA Pittsburgh, Allegheny County, Pennsylvania, United States\n"
     ]
    },
    {
     "name": "stdout",
     "output_type": "stream",
     "text": [
      "Re-engineering a Reverse Engineering Portal to a Distributed SOA<br />IEEE Proceedings of the 16th International Conference on Program Comprehension (ICPC); Amsterdam, Netherlands Amsterdam, Noord-Holland, Nederland\n"
     ]
    },
    {
     "name": "stdout",
     "output_type": "stream",
     "text": [
      "Feedback at Scale - Automatically Generated Feedback for CS Student Work: Best Practices<br />Feedback at Scale - Automatically Generated Feedback for CS Student Work: Best Practices. SIGCSE Birds-of-a-Feather Session with Bruce W. Char, Jeffrey L. Popyack, and Jeremy Johnson.; Kansas City, MO Kansas City, Jackson County, Missouri, United States\n"
     ]
    },
    {
     "name": "stdout",
     "output_type": "stream",
     "text": [
      "Statistical Analytics of Wearable Passive RFID-based Biomedical Textile Monitors for Real-Time State Classification<br />Statistical Analytics of Wearable Passive RFID-based Biomedical Textile Monitors for Real-Time State Classification. IEEE Signal Processing in Medicine and Biology (SPMB) Symposium Poster with Kapil Dandekar, Genevieve Dion, Tim Kurzweg, and Adam Fontecchio.; Philadelphia, PA Philadelphia, Philadelphia County, Pennsylvania, United States\n"
     ]
    },
    {
     "name": "stdout",
     "output_type": "stream",
     "text": [
      "Big Data is Everywhere: Bridging Computing Disciplines and Society<br />Big Data is Everywhere: Bridging Computing Disciplines and Society. Webinar for Drexel University with Jeff Popyack.; Philadelphia, PA Philadelphia, Philadelphia County, Pennsylvania, United States\n"
     ]
    },
    {
     "name": "stdout",
     "output_type": "stream",
     "text": [
      "A Panel Discussion on Computer Science Education<br />A Panel Discussion on Computer Science Education. Computer Science Teachers Association Fall Symposium.; Radnor, PA Radnor, Radnor Township, Delaware County, Pennsylvania, 19080, United States\n"
     ]
    },
    {
     "name": "stdout",
     "output_type": "stream",
     "text": [
      "CS4AllPA Summit Panel<br />Computing Pathways for K-12 Students Panel at Pennsylvania Training and Technical Assistance Network (PATTAN) Computer Science for All Summit under a PASmart grant from the Pennsylvania Department of Education, June 22-23, 2022; Harrisburg, PA Harrisburg, Dauphin County, Pennsylvania, United States\n"
     ]
    },
    {
     "name": "stdout",
     "output_type": "stream",
     "text": [
      "Wearable Technology Advances Health for Mothers and Babies<br />Wearable Technology Advances Health for Mothers and Babies. Yale Tech Summit presentation with Owen Montgomery. New Haven, CT. Also presented to Teva in Frazer, PA; New Haven, CT and Frazer, PA None\n"
     ]
    },
    {
     "name": "stdout",
     "output_type": "stream",
     "text": [
      "Computer Organization Workshop<br />Computer Organization Workshop. The Pennsylvania Governors Schools of Excellence: Information, Society and Technology.; Philadelphia, PA Philadelphia, Philadelphia County, Pennsylvania, United States\n"
     ]
    }
   ],
   "source": [
    "# Perform geolocation\n",
    "for file in g:\n",
    "    # Read the file\n",
    "    data = frontmatter.load(file)\n",
    "    data = data.to_dict()\n",
    "\n",
    "    # Press on if the location is not present\n",
    "    if 'location' not in data:\n",
    "        continue\n",
    "\n",
    "    # Prepare the description\n",
    "    title = data['title'].strip()\n",
    "    venue = data['venue'].strip()\n",
    "    location = data['location'].strip()\n",
    "    description = f\"{title}<br />{venue}; {location}\"\n",
    "\n",
    "    # Geocode the location and report the status\n",
    "    try:\n",
    "        location_dict[description] = geocoder.geocode(location, timeout=TIMEOUT)\n",
    "        print(description, location_dict[description])\n",
    "    except ValueError as ex:\n",
    "        print(f\"Error: geocode failed on input {location} with message {ex}\")\n",
    "    except GeocoderTimedOut as ex:\n",
    "        print(f\"Error: geocode timed out on input {location} with message {ex}\")\n",
    "    except Exception as ex:\n",
    "        print(f\"An unhandled exception occurred while processing input {location} with message {ex}\")"
   ]
  },
  {
   "cell_type": "code",
   "execution_count": 5,
   "metadata": {
    "collapsed": false,
    "execution": {
     "iopub.execute_input": "2025-05-26T14:21:04.139273Z",
     "iopub.status.busy": "2025-05-26T14:21:04.138873Z",
     "iopub.status.idle": "2025-05-26T14:21:04.147262Z",
     "shell.execute_reply": "2025-05-26T14:21:04.146687Z"
    }
   },
   "outputs": [
    {
     "data": {
      "text/plain": [
       "'Written map to talkmap/'"
      ]
     },
     "execution_count": 5,
     "metadata": {},
     "output_type": "execute_result"
    }
   ],
   "source": [
    "# Save the map\n",
    "m = getorg.orgmap.create_map_obj()\n",
    "getorg.orgmap.output_html_cluster_map(location_dict, folder_name=\"talkmap\", hashed_usernames=False)"
   ]
  },
  {
   "cell_type": "code",
   "execution_count": null,
   "metadata": {
    "collapsed": true
   },
   "outputs": [],
   "source": []
  }
 ],
 "metadata": {
  "anaconda-cloud": {},
  "kernelspec": {
   "display_name": "Python 3",
   "language": "python",
   "name": "python3"
  },
  "language_info": {
   "codemirror_mode": {
    "name": "ipython",
    "version": 3
   },
   "file_extension": ".py",
   "mimetype": "text/x-python",
   "name": "python",
   "nbconvert_exporter": "python",
   "pygments_lexer": "ipython3",
   "version": "3.9.22"
  }
 },
 "nbformat": 4,
 "nbformat_minor": 0
}
